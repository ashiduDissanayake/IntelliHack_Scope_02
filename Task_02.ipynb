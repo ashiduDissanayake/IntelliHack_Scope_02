{
 "cells": [
  {
   "cell_type": "markdown",
   "id": "87c2ae38-04ce-455a-a423-b4be9847edba",
   "metadata": {},
   "source": [
    "# Task 02"
   ]
  },
  {
   "cell_type": "code",
   "execution_count": null,
   "id": "bd6f1b5e-c374-4bec-8634-55b1b1bbcd5d",
   "metadata": {},
   "outputs": [],
   "source": []
  }
 ],
 "metadata": {
  "kernelspec": {
   "display_name": "Python 3 (ipykernel)",
   "language": "python",
   "name": "python3"
  },
  "language_info": {
   "codemirror_mode": {
    "name": "ipython",
    "version": 3
   },
   "file_extension": ".py",
   "mimetype": "text/x-python",
   "name": "python",
   "nbconvert_exporter": "python",
   "pygments_lexer": "ipython3",
   "version": "3.13.1"
  }
 },
 "nbformat": 4,
 "nbformat_minor": 5
}
